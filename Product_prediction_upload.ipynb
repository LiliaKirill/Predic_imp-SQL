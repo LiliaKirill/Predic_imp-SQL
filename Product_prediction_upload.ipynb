{
 "cells": [
  {
   "cell_type": "markdown",
   "metadata": {},
   "source": [
    "# Model of product recomendation\n",
    "\n",
    "Goal of given model - to improve prediction by adding SEX column\n",
    "\n",
    "Content\n",
    "\n",
    "1. Data Upload\n",
    "2. Add activity_column\n",
    "3. Add Gender Column\n",
    "4. Replace NaN (gender by customer purchaising history)\n",
    "\n",
    "5. Process Datetime column\n",
    "6. Label Encode (customer #)\n",
    "\n",
    "7. Preparation for Baseline accuracy prediction\n",
    " - 7.1 One-Hot Encode (without sex column)\n",
    "\n",
    "8. Preparation for Target accuracy prediction\n",
    " - 8.1 One-Hot Encode (with sex column)\n",
    "\n",
    "\n",
    "9. GridSearchCV_for_baseline \n",
    "\n",
    "10. GridSearchCV_for_target(with sex column)\n",
    "\n",
    "11. Final accuracy prediction\n",
    "\n",
    "12. Conclusion"
   ]
  },
  {
   "cell_type": "markdown",
   "metadata": {},
   "source": [
    "## Libraries "
   ]
  },
  {
   "cell_type": "code",
   "execution_count": 82,
   "metadata": {},
   "outputs": [],
   "source": [
    "import pandas as pd \n",
    "import numpy as np\n",
    "\n",
    "import statistics\n",
    "\n",
    "from sklearn.preprocessing import OneHotEncoder\n",
    "from sklearn.preprocessing import LabelEncoder\n",
    "from sklearn import preprocessing\n",
    "\n",
    "from sklearn.model_selection import train_test_split\n",
    "from sklearn.model_selection import GridSearchCV\n",
    "\n",
    "from sklearn import metrics\n",
    "from sklearn.metrics import accuracy_score\n",
    "\n",
    "\n",
    "from sklearn.model_selection import cross_val_score\n",
    "\n",
    "from sklearn.tree import DecisionTreeClassifier\n"
   ]
  },
  {
   "cell_type": "markdown",
   "metadata": {},
   "source": [
    "# 1. Data Uploading"
   ]
  },
  {
   "cell_type": "code",
   "execution_count": 83,
   "metadata": {},
   "outputs": [
    {
     "name": "stdout",
     "output_type": "stream",
     "text": [
      "Train (351686, 3)\n",
      "Train Index(['customer_id', 'product_id', 'datetime'], dtype='object')\n",
      "Test (21935, 3)\n",
      "Customers (123565, 2)\n"
     ]
    }
   ],
   "source": [
    "train = pd.read_csv(\"purchases_train.csv\").sort_values(by='datetime',ascending=True)\n",
    "test = pd.read_csv(\"purchases_test.csv\").sort_values(by='datetime',ascending=True)\n",
    "cust = pd.read_csv(\"customers.csv\",na_values='nan')\n",
    "\n",
    "y_train=train['product_id'].copy()\n",
    "y_test=test['product_id'].copy()\n",
    "\n",
    "#train=train.drop(['product_id'],axis=1)\n",
    "#test=test.drop(['product_id'],axis=1)\n",
    "\n",
    "print('Train',train.shape)\n",
    "print('Train',train.columns)\n",
    "print('Test',test.shape)\n",
    "print('Customers',cust.shape)\n"
   ]
  },
  {
   "cell_type": "code",
   "execution_count": 84,
   "metadata": {},
   "outputs": [],
   "source": [
    "all_data=pd.concat([train,test])"
   ]
  },
  {
   "cell_type": "markdown",
   "metadata": {},
   "source": [
    "# 2.Add activity Column"
   ]
  },
  {
   "cell_type": "code",
   "execution_count": 85,
   "metadata": {},
   "outputs": [],
   "source": [
    "#Activity- frequency of customer in train dataset\n",
    "activity=pd.DataFrame(train['customer_id'].value_counts()).reset_index()\n",
    "activity.columns=['customer_id','activity']"
   ]
  },
  {
   "cell_type": "code",
   "execution_count": 86,
   "metadata": {},
   "outputs": [],
   "source": [
    "all_data1=pd.merge(all_data, activity, left_on='customer_id', right_on='customer_id')"
   ]
  },
  {
   "cell_type": "code",
   "execution_count": 87,
   "metadata": {},
   "outputs": [],
   "source": [
    "all_data=all_data1.copy()"
   ]
  },
  {
   "cell_type": "markdown",
   "metadata": {},
   "source": [
    "# 3. Add Gender Column"
   ]
  },
  {
   "cell_type": "code",
   "execution_count": 88,
   "metadata": {},
   "outputs": [
    {
     "name": "stdout",
     "output_type": "stream",
     "text": [
      "All_data (373621, 5)\n",
      "All_data Index(['customer_id', 'product_id', 'datetime', 'activity', 'sex'], dtype='object')\n"
     ]
    }
   ],
   "source": [
    "all_data=all_data.merge(cust, on='customer_id', how='left')\n",
    "all_data=all_data.sort_values(by='datetime',ascending=True)\n",
    "print('All_data',all_data.shape)\n",
    "print('All_data',all_data.columns)"
   ]
  },
  {
   "cell_type": "code",
   "execution_count": 89,
   "metadata": {},
   "outputs": [
    {
     "name": "stdout",
     "output_type": "stream",
     "text": [
      "21696337\n",
      "107491\n"
     ]
    }
   ],
   "source": [
    "#Unique_customer_id\n",
    "print(train['customer_id'].max())\n",
    "print(train['customer_id'].nunique())"
   ]
  },
  {
   "cell_type": "code",
   "execution_count": 90,
   "metadata": {},
   "outputs": [
    {
     "data": {
      "text/plain": [
       "0    225145\n",
       "1    148476\n",
       "Name: noSex-1/0, dtype: int64"
      ]
     },
     "execution_count": 90,
     "metadata": {},
     "output_type": "execute_result"
    }
   ],
   "source": [
    "#No_Sex_amount_rows\n",
    "all_data['noSex-1/0']=0\n",
    "all_data['noSex-1/0'] = all_data['sex'].apply(lambda x: 1 if pd.isnull(x) else 0)\n",
    "\n",
    "all_data['noSex-1/0'].value_counts()"
   ]
  },
  {
   "cell_type": "code",
   "execution_count": 91,
   "metadata": {},
   "outputs": [
    {
     "data": {
      "text/plain": [
       "customer_id         0\n",
       "product_id          0\n",
       "datetime            0\n",
       "activity            0\n",
       "sex            148476\n",
       "noSex-1/0           0\n",
       "dtype: int64"
      ]
     },
     "execution_count": 91,
     "metadata": {},
     "output_type": "execute_result"
    }
   ],
   "source": [
    "#Null_values\n",
    "all_data.isnull().sum()"
   ]
  },
  {
   "cell_type": "markdown",
   "metadata": {},
   "source": [
    "# 4. Replace NaN_SEX"
   ]
  },
  {
   "cell_type": "markdown",
   "metadata": {},
   "source": [
    "## 4.1 Replace by customer purchaising history"
   ]
  },
  {
   "cell_type": "code",
   "execution_count": 92,
   "metadata": {},
   "outputs": [
    {
     "name": "stdout",
     "output_type": "stream",
     "text": [
      "Uniq_Nan_products 1653\n",
      "Total NaN rows (148476,)\n"
     ]
    }
   ],
   "source": [
    "#Product_list with_NaN-unique product ID\n",
    "\n",
    "prod_list_sex_NAN=all_data.loc[all_data['sex'].isnull()]\n",
    "print('Uniq_Nan_products',prod_list_sex_NAN['product_id'].nunique())\n",
    "print('Total NaN rows',prod_list_sex_NAN['product_id'].shape)\n",
    "\n",
    "uniq_na_sex_prod=pd.DataFrame(prod_list_sex_NAN['product_id'].unique())\n",
    "uniq_na_sex_prod.columns=['product_id']\n",
    "uniq_na_sex_prod['NA_Sex']='yes'"
   ]
  },
  {
   "cell_type": "code",
   "execution_count": 93,
   "metadata": {},
   "outputs": [
    {
     "data": {
      "text/plain": [
       "Female    169747\n",
       "Male       55398\n",
       "Name: sex, dtype: int64"
      ]
     },
     "execution_count": 93,
     "metadata": {},
     "output_type": "execute_result"
    }
   ],
   "source": [
    "#Male-Female distribution\n",
    "all_data['sex'].value_counts()"
   ]
  },
  {
   "cell_type": "code",
   "execution_count": 94,
   "metadata": {},
   "outputs": [
    {
     "data": {
      "text/plain": [
       "customer_id                 0\n",
       "product_id                  0\n",
       "datetime                    0\n",
       "activity                    0\n",
       "sex                    148476\n",
       "noSex-1/0                   0\n",
       "product_count_total         0\n",
       "dtype: int64"
      ]
     },
     "execution_count": 94,
     "metadata": {},
     "output_type": "execute_result"
    }
   ],
   "source": [
    "#Add column - How many times this product was bought\n",
    "freq=pd.DataFrame(all_data['product_id'].value_counts()).reset_index()\n",
    "freq.columns=['product_id','product_count_total']\n",
    "\n",
    "all_data=all_data.merge(freq, on='product_id', how='left')\n",
    "\n",
    "all_data.isnull().sum()\n"
   ]
  },
  {
   "cell_type": "code",
   "execution_count": 95,
   "metadata": {},
   "outputs": [
    {
     "data": {
      "text/html": [
       "<div>\n",
       "<style scoped>\n",
       "    .dataframe tbody tr th:only-of-type {\n",
       "        vertical-align: middle;\n",
       "    }\n",
       "\n",
       "    .dataframe tbody tr th {\n",
       "        vertical-align: top;\n",
       "    }\n",
       "\n",
       "    .dataframe thead th {\n",
       "        text-align: right;\n",
       "    }\n",
       "</style>\n",
       "<table border=\"1\" class=\"dataframe\">\n",
       "  <thead>\n",
       "    <tr style=\"text-align: right;\">\n",
       "      <th></th>\n",
       "      <th>product_id</th>\n",
       "      <th>prod_times_bought_by_sex</th>\n",
       "      <th>Prod_freq</th>\n",
       "      <th>%_this_prod_by_sex_bought</th>\n",
       "      <th>sex_pred</th>\n",
       "    </tr>\n",
       "  </thead>\n",
       "  <tbody>\n",
       "    <tr>\n",
       "      <th>0</th>\n",
       "      <td>15</td>\n",
       "      <td>294.0</td>\n",
       "      <td>450</td>\n",
       "      <td>65.33</td>\n",
       "      <td>Female</td>\n",
       "    </tr>\n",
       "    <tr>\n",
       "      <th>2</th>\n",
       "      <td>22</td>\n",
       "      <td>43.0</td>\n",
       "      <td>68</td>\n",
       "      <td>63.24</td>\n",
       "      <td>Female</td>\n",
       "    </tr>\n",
       "    <tr>\n",
       "      <th>4</th>\n",
       "      <td>25</td>\n",
       "      <td>11.0</td>\n",
       "      <td>22</td>\n",
       "      <td>50.00</td>\n",
       "      <td>Female</td>\n",
       "    </tr>\n",
       "    <tr>\n",
       "      <th>6</th>\n",
       "      <td>27</td>\n",
       "      <td>289.0</td>\n",
       "      <td>932</td>\n",
       "      <td>31.01</td>\n",
       "      <td>Female</td>\n",
       "    </tr>\n",
       "    <tr>\n",
       "      <th>8</th>\n",
       "      <td>49</td>\n",
       "      <td>2.0</td>\n",
       "      <td>24</td>\n",
       "      <td>8.33</td>\n",
       "      <td>Female</td>\n",
       "    </tr>\n",
       "    <tr>\n",
       "      <th>...</th>\n",
       "      <td>...</td>\n",
       "      <td>...</td>\n",
       "      <td>...</td>\n",
       "      <td>...</td>\n",
       "      <td>...</td>\n",
       "    </tr>\n",
       "    <tr>\n",
       "      <th>3248</th>\n",
       "      <td>13762</td>\n",
       "      <td>5.0</td>\n",
       "      <td>33</td>\n",
       "      <td>15.15</td>\n",
       "      <td>Female</td>\n",
       "    </tr>\n",
       "    <tr>\n",
       "      <th>3250</th>\n",
       "      <td>13768</td>\n",
       "      <td>5.0</td>\n",
       "      <td>23</td>\n",
       "      <td>21.74</td>\n",
       "      <td>Female</td>\n",
       "    </tr>\n",
       "    <tr>\n",
       "      <th>3252</th>\n",
       "      <td>13802</td>\n",
       "      <td>1.0</td>\n",
       "      <td>1</td>\n",
       "      <td>100.00</td>\n",
       "      <td>Female</td>\n",
       "    </tr>\n",
       "    <tr>\n",
       "      <th>3296</th>\n",
       "      <td>13815</td>\n",
       "      <td>3.0</td>\n",
       "      <td>4</td>\n",
       "      <td>75.00</td>\n",
       "      <td>Female</td>\n",
       "    </tr>\n",
       "    <tr>\n",
       "      <th>3253</th>\n",
       "      <td>13830</td>\n",
       "      <td>66.0</td>\n",
       "      <td>104</td>\n",
       "      <td>63.46</td>\n",
       "      <td>Male</td>\n",
       "    </tr>\n",
       "  </tbody>\n",
       "</table>\n",
       "<p>1731 rows × 5 columns</p>\n",
       "</div>"
      ],
      "text/plain": [
       "      product_id  prod_times_bought_by_sex  Prod_freq  \\\n",
       "0             15                     294.0        450   \n",
       "2             22                      43.0         68   \n",
       "4             25                      11.0         22   \n",
       "6             27                     289.0        932   \n",
       "8             49                       2.0         24   \n",
       "...          ...                       ...        ...   \n",
       "3248       13762                       5.0         33   \n",
       "3250       13768                       5.0         23   \n",
       "3252       13802                       1.0          1   \n",
       "3296       13815                       3.0          4   \n",
       "3253       13830                      66.0        104   \n",
       "\n",
       "      %_this_prod_by_sex_bought sex_pred  \n",
       "0                         65.33   Female  \n",
       "2                         63.24   Female  \n",
       "4                         50.00   Female  \n",
       "6                         31.01   Female  \n",
       "8                          8.33   Female  \n",
       "...                         ...      ...  \n",
       "3248                      15.15   Female  \n",
       "3250                      21.74   Female  \n",
       "3252                     100.00   Female  \n",
       "3296                      75.00   Female  \n",
       "3253                      63.46     Male  \n",
       "\n",
       "[1731 rows x 5 columns]"
      ]
     },
     "execution_count": 95,
     "metadata": {},
     "output_type": "execute_result"
    }
   ],
   "source": [
    "#Create table - product_id - predicted SEX (by purchaising history)\n",
    "gender=all_data.groupby(['sex','product_id'],as_index=False).count()\n",
    "gender=gender.drop(['datetime','noSex-1/0','product_count_total','activity'],axis=1)\n",
    "\n",
    "gender=gender.merge(freq, on='product_id', how='right')\n",
    "gender.columns=['sex','product_id','prod_times_bought_by_sex','Prod_freq']\n",
    "gender['%_this_prod_by_sex_bought']=round(gender['prod_times_bought_by_sex']*100/gender['Prod_freq'],2)\n",
    "gender=gender.dropna()\n",
    "\n",
    "gender=gender.merge(uniq_na_sex_prod, on='product_id', how='left')\n",
    "gender=gender.sort_values(by=['product_id','sex'])\n",
    "gender=gender.drop(['NA_Sex'],axis=1)\n",
    "gender['sex_pred']=0\n",
    "a=[]\n",
    "for i in list(gender['product_id']):\n",
    "        #Найти макс значение продажи продукта по полу и знач пола\n",
    "        prod_sex_2=gender.loc[gender['product_id']==i]\n",
    "            #m=gender.loc[prod_sex_2['%_this_prod_by_sex_bought'].max]\n",
    "\n",
    "        ind_max=prod_sex_2['%_this_prod_by_sex_bought'].idxmax(axis=1, skipna=True)\n",
    "        max_sex=gender['sex'][ind_max]\n",
    "\n",
    "        a.append(max_sex)\n",
    "\n",
    "gender['sex_pred']=pd.DataFrame(a)\n",
    "gender.drop_duplicates(subset =\"product_id\", inplace = True)\n",
    "gender=gender.drop(['sex'],axis=1)\n",
    "gender"
   ]
  },
  {
   "cell_type": "code",
   "execution_count": 96,
   "metadata": {},
   "outputs": [
    {
     "name": "stdout",
     "output_type": "stream",
     "text": [
      "(373621, 9)\n"
     ]
    },
    {
     "data": {
      "text/plain": [
       "customer_id                  0\n",
       "product_id                   0\n",
       "datetime                     0\n",
       "activity                     0\n",
       "sex                     148476\n",
       "noSex-1/0                    0\n",
       "product_count_total          0\n",
       "sex_pred                   120\n",
       "noSex_after_pred-1/0         0\n",
       "dtype: int64"
      ]
     },
     "execution_count": 96,
     "metadata": {},
     "output_type": "execute_result"
    }
   ],
   "source": [
    "#Vlookup all_data and Predicted-Sex\n",
    "#120 prod_id still no SEX  \n",
    "all_data_sex_pr=all_data.merge(gender, on='product_id', how='left')\n",
    "all_data_sex_pr=all_data_sex_pr.drop(['prod_times_bought_by_sex','Prod_freq','%_this_prod_by_sex_bought'],axis=1)\n",
    "\n",
    "all_data_sex_pr['noSex_after_pred-1/0']=0\n",
    "all_data_sex_pr['noSex_after_pred-1/0'] = all_data_sex_pr['noSex_after_pred-1/0'].apply(lambda x: 1 if pd.isnull(x) else 0)\n",
    "\n",
    "print(all_data_sex_pr.shape)\n",
    "all_data_sex_pr.isnull().sum()"
   ]
  },
  {
   "cell_type": "code",
   "execution_count": 97,
   "metadata": {},
   "outputs": [
    {
     "name": "stdout",
     "output_type": "stream",
     "text": [
      "(373621, 10)\n"
     ]
    },
    {
     "data": {
      "text/plain": [
       "customer_id                  0\n",
       "product_id                   0\n",
       "datetime                     0\n",
       "activity                     0\n",
       "sex                     148476\n",
       "noSex-1/0                    0\n",
       "product_count_total          0\n",
       "sex_pred                   120\n",
       "noSex_after_pred-1/0         0\n",
       "final_sex                  120\n",
       "dtype: int64"
      ]
     },
     "execution_count": 97,
     "metadata": {},
     "output_type": "execute_result"
    }
   ],
   "source": [
    "#ALl Sex to one columns - given+predicted\n",
    "all_data_sex_pr['final_sex']=all_data_sex_pr['sex']\n",
    "all_data_sex_pr['final_sex'].fillna(all_data_sex_pr['sex_pred'],inplace=True)\n",
    "print(all_data_sex_pr.shape)\n",
    "all_data_sex_pr.isnull().sum()"
   ]
  },
  {
   "cell_type": "code",
   "execution_count": 98,
   "metadata": {},
   "outputs": [
    {
     "name": "stdout",
     "output_type": "stream",
     "text": [
      "(373621, 10)\n"
     ]
    },
    {
     "data": {
      "text/plain": [
       "customer_id                  0\n",
       "product_id                   0\n",
       "datetime                     0\n",
       "activity                     0\n",
       "sex                     148476\n",
       "noSex-1/0                    0\n",
       "product_count_total          0\n",
       "sex_pred                   120\n",
       "noSex_after_pred-1/0         0\n",
       "final_sex                    0\n",
       "dtype: int64"
      ]
     },
     "execution_count": 98,
     "metadata": {},
     "output_type": "execute_result"
    }
   ],
   "source": [
    "#REplace rest 120 NAN sex to 'Female'\n",
    "all_data_sex_pr['final_sex']=all_data_sex_pr['final_sex'].fillna('Female')\n",
    "print(all_data_sex_pr.shape)\n",
    "all_data_sex_pr.isnull().sum()"
   ]
  },
  {
   "cell_type": "code",
   "execution_count": 99,
   "metadata": {},
   "outputs": [
    {
     "data": {
      "text/plain": [
       "Female    304262\n",
       "Male       69359\n",
       "Name: final_sex, dtype: int64"
      ]
     },
     "execution_count": 99,
     "metadata": {},
     "output_type": "execute_result"
    }
   ],
   "source": [
    "all_data_sex_pr['final_sex'].value_counts()"
   ]
  },
  {
   "cell_type": "code",
   "execution_count": 100,
   "metadata": {},
   "outputs": [],
   "source": [
    "#Final sex - 1/0\n",
    "all_data_sex_pr['final_sex'] = all_data_sex_pr['final_sex'].map(lambda x: 1 if x == 'Male' else 0)"
   ]
  },
  {
   "cell_type": "code",
   "execution_count": 101,
   "metadata": {},
   "outputs": [],
   "source": [
    "#keep Final Sex column - separate for accuracy check\n",
    "sex_df=pd.DataFrame(all_data_sex_pr['final_sex'])\n"
   ]
  },
  {
   "cell_type": "markdown",
   "metadata": {},
   "source": [
    "# 5. Process Datetime"
   ]
  },
  {
   "cell_type": "code",
   "execution_count": 102,
   "metadata": {},
   "outputs": [],
   "source": [
    "#Datetime\n",
    "all_data['datetime'] = pd.to_datetime(all_data['datetime'],format='%Y-%m-%d %H:%M:%S')\n",
    "all_data['year']=all_data['datetime'].dt.year\n",
    "all_data['month']=all_data['datetime'].dt.month\n",
    "all_data['day']=all_data['datetime'].dt.day\n",
    "\n",
    "all_data['wday']=all_data['datetime'].dt.dayofweek \n",
    "#all_data['weekday_name']=all_data['datetime'].dt.weekday\n",
    "\n",
    "all_data['Hour'] = all_data['datetime'].dt.hour \n",
    "#all_data['minute'] = all_data['datetime'].dt.minute"
   ]
  },
  {
   "cell_type": "code",
   "execution_count": 103,
   "metadata": {},
   "outputs": [
    {
     "name": "stdout",
     "output_type": "stream",
     "text": [
      "All_data (373621, 12)\n",
      "All_data Index(['customer_id', 'product_id', 'datetime', 'activity', 'sex', 'noSex-1/0',\n",
      "       'product_count_total', 'year', 'month', 'day', 'wday', 'Hour'],\n",
      "      dtype='object')\n"
     ]
    }
   ],
   "source": [
    "print('All_data',all_data.shape)\n",
    "print('All_data',all_data.columns)"
   ]
  },
  {
   "cell_type": "code",
   "execution_count": 104,
   "metadata": {},
   "outputs": [],
   "source": [
    "all_data=all_data.sort_values(by='datetime')"
   ]
  },
  {
   "cell_type": "code",
   "execution_count": 105,
   "metadata": {},
   "outputs": [],
   "source": [
    "all_data=all_data.drop(['datetime'],axis=1)"
   ]
  },
  {
   "cell_type": "markdown",
   "metadata": {},
   "source": [
    "# 6. LabelEnc"
   ]
  },
  {
   "cell_type": "code",
   "execution_count": 106,
   "metadata": {},
   "outputs": [
    {
     "data": {
      "text/plain": [
       "21696337"
      ]
     },
     "execution_count": 106,
     "metadata": {},
     "output_type": "execute_result"
    }
   ],
   "source": [
    "train['customer_id'].max()"
   ]
  },
  {
   "cell_type": "code",
   "execution_count": 107,
   "metadata": {},
   "outputs": [
    {
     "data": {
      "text/plain": [
       "107490"
      ]
     },
     "execution_count": 107,
     "metadata": {},
     "output_type": "execute_result"
    }
   ],
   "source": [
    "#LabelEncoder - customer_id\n",
    "le = LabelEncoder()\n",
    "all_data['customer_id']=pd.DataFrame(le.fit_transform(all_data['customer_id']),columns=['customer_id'])\n",
    "all_data['customer_id'].max()"
   ]
  },
  {
   "cell_type": "code",
   "execution_count": 108,
   "metadata": {},
   "outputs": [
    {
     "name": "stdout",
     "output_type": "stream",
     "text": [
      "Train (351686, 11)\n",
      "Test (21935, 11)\n"
     ]
    }
   ],
   "source": [
    "#split-train/test_easier_dummy\n",
    "train=all_data[:len(y_train)].copy()\n",
    "test=all_data[len(y_train):].copy()\n",
    "\n",
    "print('Train',train.shape)\n",
    "print('Test',test.shape)"
   ]
  },
  {
   "cell_type": "code",
   "execution_count": 109,
   "metadata": {},
   "outputs": [
    {
     "data": {
      "text/plain": [
       "Index(['customer_id', 'product_id', 'activity', 'sex', 'noSex-1/0',\n",
       "       'product_count_total', 'year', 'month', 'day', 'wday', 'Hour'],\n",
       "      dtype='object')"
      ]
     },
     "execution_count": 109,
     "metadata": {},
     "output_type": "execute_result"
    }
   ],
   "source": [
    "all_data.columns"
   ]
  },
  {
   "cell_type": "markdown",
   "metadata": {},
   "source": [
    "# 7.Preparation for Baseline accuracy prediction"
   ]
  },
  {
   "cell_type": "markdown",
   "metadata": {},
   "source": [
    "## 7.1 One_hot"
   ]
  },
  {
   "cell_type": "code",
   "execution_count": 110,
   "metadata": {},
   "outputs": [
    {
     "name": "stdout",
     "output_type": "stream",
     "text": [
      "Training data: (351686, 107556)\n",
      "Test data: (21935, 107556)\n",
      "###########\n"
     ]
    }
   ],
   "source": [
    "#One_hot for categorical\n",
    "categorical=['customer_id', 'year', 'month', 'day', 'wday', 'Hour']\n",
    "not_categorical=['activity']\n",
    "\n",
    "enc = OneHotEncoder(drop='first')\n",
    "enc=enc.fit(pd.concat([train[categorical],test[categorical]]))\n",
    "X_cat_sparse=enc.transform(train[categorical])\n",
    "X_test_cat_sparse=enc.transform(test[categorical])\n",
    "\n",
    "from scipy.sparse import hstack\n",
    "X_sparse=hstack((train[not_categorical], X_cat_sparse))\n",
    "X_test_sparse=hstack((test[not_categorical], X_test_cat_sparse))\n",
    "\n",
    "print(\"Training data: \" + format(X_sparse.shape))\n",
    "print(\"Test data: \" + format(X_test_sparse.shape))\n",
    "print(\"###########\")\n"
   ]
  },
  {
   "cell_type": "code",
   "execution_count": 111,
   "metadata": {},
   "outputs": [],
   "source": [
    "X_train=X_sparse\n",
    "X_test=X_test_sparse"
   ]
  },
  {
   "cell_type": "code",
   "execution_count": 112,
   "metadata": {},
   "outputs": [
    {
     "name": "stdout",
     "output_type": "stream",
     "text": [
      "Train (351686, 107556)\n",
      "Test (21935, 107556)\n",
      "Train (351686,)\n",
      "Test (21935,)\n"
     ]
    }
   ],
   "source": [
    "print('Train',X_train.shape)\n",
    "print('Test',X_test.shape)\n",
    "\n",
    "print('Train',y_train.shape)\n",
    "print('Test',y_test.shape)"
   ]
  },
  {
   "cell_type": "markdown",
   "metadata": {},
   "source": [
    "# 8. Preparation for Target accuracy prediction"
   ]
  },
  {
   "cell_type": "markdown",
   "metadata": {},
   "source": [
    "## 8.1 One-Hot Encode (df with sex column (predicted))"
   ]
  },
  {
   "cell_type": "code",
   "execution_count": 113,
   "metadata": {},
   "outputs": [
    {
     "name": "stdout",
     "output_type": "stream",
     "text": [
      "(373621, 12)\n",
      "Train (351686, 12)\n",
      "Test (21935, 12)\n",
      "Columns Index(['customer_id', 'product_id', 'activity', 'sex', 'noSex-1/0',\n",
      "       'product_count_total', 'year', 'month', 'day', 'wday', 'Hour',\n",
      "       'final_sex'],\n",
      "      dtype='object')\n"
     ]
    }
   ],
   "source": [
    "all_data_sex=pd.concat([all_data,sex_df],axis=1)\n",
    "print(all_data_sex.shape)\n",
    "\n",
    "train_sex=all_data_sex[:len(y_train)].copy()\n",
    "test_sex=all_data_sex[len(y_train):].copy()\n",
    "\n",
    "print('Train',train_sex.shape)\n",
    "print('Test',test_sex.shape)\n",
    "print('Columns',all_data_sex.columns)"
   ]
  },
  {
   "cell_type": "code",
   "execution_count": 114,
   "metadata": {},
   "outputs": [
    {
     "name": "stdout",
     "output_type": "stream",
     "text": [
      "Training data: (351686, 107557)\n",
      "Test data: (21935, 107557)\n",
      "###########\n"
     ]
    }
   ],
   "source": [
    "#One_hot for categorical\n",
    "categorical=['customer_id', 'year', 'month', 'day', 'wday', 'Hour','final_sex']\n",
    "not_categorical=['activity']\n",
    "\n",
    "enc = OneHotEncoder(drop='first')\n",
    "enc=enc.fit(pd.concat([train_sex[categorical],test_sex[categorical]]))\n",
    "\n",
    "X_cat_sparse_sex=enc.transform(train_sex[categorical])\n",
    "X_test_cat_sparse_sex=enc.transform(test_sex[categorical])\n",
    "\n",
    "from scipy.sparse import hstack\n",
    "X_sparse_sex=hstack((train_sex[not_categorical], X_cat_sparse_sex))\n",
    "X_test_sparse_sex=hstack((test_sex[not_categorical], X_test_cat_sparse_sex))\n",
    "\n",
    "print(\"Training data: \" + format(X_sparse_sex.shape))\n",
    "print(\"Test data: \" + format(X_test_sparse_sex.shape))\n",
    "print(\"###########\")\n"
   ]
  },
  {
   "cell_type": "code",
   "execution_count": 115,
   "metadata": {},
   "outputs": [],
   "source": [
    "X_train_sex=X_sparse_sex\n",
    "X_test_sex=X_test_sparse_sex"
   ]
  },
  {
   "cell_type": "markdown",
   "metadata": {},
   "source": [
    "# 9.GridSearchCV_for_baseline"
   ]
  },
  {
   "cell_type": "code",
   "execution_count": 116,
   "metadata": {},
   "outputs": [],
   "source": [
    "#Split dataset for Gridsearch\n",
    "X=X_train\n",
    "y=y_train\n",
    "X_train_, X_test_, y_train_, y_test_ = train_test_split(X, y, train_size=0.2, test_size=0.8,\n",
    "                                                      random_state=241)\n",
    "\n",
    "cv=KFold(n_splits=5,shuffle=True,random_state=241)"
   ]
  },
  {
   "cell_type": "code",
   "execution_count": 117,
   "metadata": {},
   "outputs": [
    {
     "name": "stdout",
     "output_type": "stream",
     "text": [
      "The parameters combination that would give best accuracy is : \n",
      "{'criterion': 'gini', 'max_depth': 7, 'min_samples_leaf': 2, 'min_samples_split': 5}\n",
      "The best accuracy achieved after parameter tuning via grid search is :  0.06545627157120987\n"
     ]
    }
   ],
   "source": [
    "#Using GridSearchCV we defined the best parameters for baseline dataset\n",
    "\n",
    "depth = [7]\n",
    "crit=['gini']\n",
    "sam=[5]\n",
    "leaf=[2]\n",
    "\n",
    "parameters = {'max_depth':depth,\n",
    "              'criterion':crit,\n",
    "             'min_samples_split':sam,\n",
    "             'min_samples_leaf':leaf,\n",
    "             }\n",
    "model = DecisionTreeClassifier()\n",
    "grid = GridSearchCV(model, parameters,scoring='accuracy', cv=cv)\n",
    "grid.fit(X_train_,y_train_)\n",
    "score_my=(grid.best_score_)\n",
    "print('The parameters combination that would give best accuracy is : ')\n",
    "print(grid.best_params_)\n",
    "print('The best accuracy achieved after parameter tuning via grid search is : ', score_my)"
   ]
  },
  {
   "cell_type": "markdown",
   "metadata": {},
   "source": [
    "# 10.GridSearchCV_for_target(with sex column)"
   ]
  },
  {
   "cell_type": "code",
   "execution_count": 118,
   "metadata": {},
   "outputs": [],
   "source": [
    "X=X_train_sex\n",
    "y=y_train\n",
    "X_train_sex_, X_test_sex_, y_train_sex_, y_test_sex_ = train_test_split(X, y, train_size=0.2, test_size=0.8,\n",
    "                                                      random_state=241)"
   ]
  },
  {
   "cell_type": "code",
   "execution_count": 119,
   "metadata": {},
   "outputs": [
    {
     "name": "stdout",
     "output_type": "stream",
     "text": [
      "The parameters combination that would give best accuracy is : \n",
      "{'criterion': 'gini', 'max_depth': 9, 'min_samples_leaf': 1, 'min_samples_split': 4}\n",
      "The best accuracy achieved after parameter tuning via grid search is :  0.07562161538188043\n"
     ]
    }
   ],
   "source": [
    "#Using GridSearchCV we defined the best parameters for target dataset\n",
    "depth = [9]\n",
    "crit=['gini']\n",
    "sam=[4]\n",
    "leaf=[1]\n",
    "\n",
    "parameters = {'max_depth':depth,\n",
    "              'criterion':crit,\n",
    "             'min_samples_split':sam,\n",
    "             'min_samples_leaf':leaf,\n",
    "}\n",
    "model = DecisionTreeClassifier()\n",
    "grid = GridSearchCV(model, parameters,scoring='accuracy', cv=cv)\n",
    "grid.fit(X_train_sex_,y_train_sex_)\n",
    "score_my=(grid.best_score_)\n",
    "print('The parameters combination that would give best accuracy is : ')\n",
    "print(grid.best_params_)\n",
    "print('The best accuracy achieved after parameter tuning via grid search is : ', score_my)"
   ]
  },
  {
   "cell_type": "markdown",
   "metadata": {},
   "source": [
    "# 11. Final accuracy prediction"
   ]
  },
  {
   "cell_type": "code",
   "execution_count": 120,
   "metadata": {},
   "outputs": [],
   "source": [
    "# Baseline\n",
    "model_basic=DecisionTreeClassifier(max_depth=7,criterion='gini',min_samples_split=5,min_samples_leaf=2)"
   ]
  },
  {
   "cell_type": "code",
   "execution_count": 121,
   "metadata": {},
   "outputs": [
    {
     "data": {
      "text/plain": [
       "DecisionTreeClassifier(ccp_alpha=0.0, class_weight=None, criterion='gini',\n",
       "                       max_depth=7, max_features=None, max_leaf_nodes=None,\n",
       "                       min_impurity_decrease=0.0, min_impurity_split=None,\n",
       "                       min_samples_leaf=2, min_samples_split=5,\n",
       "                       min_weight_fraction_leaf=0.0, presort='deprecated',\n",
       "                       random_state=None, splitter='best')"
      ]
     },
     "execution_count": 121,
     "metadata": {},
     "output_type": "execute_result"
    }
   ],
   "source": [
    "model_basic.fit(X_train, y_train)"
   ]
  },
  {
   "cell_type": "code",
   "execution_count": 123,
   "metadata": {},
   "outputs": [
    {
     "name": "stdout",
     "output_type": "stream",
     "text": [
      "Baseline accuracy prediction with tune parameters 0.10558468201504445\n",
      "False/True predictions False    19619\n",
      "True      2316\n",
      "Name: product_id, dtype: int64\n"
     ]
    }
   ],
   "source": [
    "\n",
    "\n",
    "model_basic_predictions = model_basic.predict(X_test)\n",
    "acc = accuracy_score(model_basic_predictions, y_test)\n",
    "\n",
    "pred_matrix=y_test==model_basic_predictions\n",
    "print ('Baseline accuracy prediction with tune parameters',acc)\n",
    "print('False/True predictions',pred_matrix.value_counts())"
   ]
  },
  {
   "cell_type": "code",
   "execution_count": 124,
   "metadata": {},
   "outputs": [],
   "source": [
    "#Target with sex\n",
    "model_target=DecisionTreeClassifier(max_depth=9,criterion='gini',min_samples_split=4,min_samples_leaf=1)"
   ]
  },
  {
   "cell_type": "code",
   "execution_count": 125,
   "metadata": {},
   "outputs": [
    {
     "data": {
      "text/plain": [
       "DecisionTreeClassifier(ccp_alpha=0.0, class_weight=None, criterion='gini',\n",
       "                       max_depth=9, max_features=None, max_leaf_nodes=None,\n",
       "                       min_impurity_decrease=0.0, min_impurity_split=None,\n",
       "                       min_samples_leaf=1, min_samples_split=4,\n",
       "                       min_weight_fraction_leaf=0.0, presort='deprecated',\n",
       "                       random_state=None, splitter='best')"
      ]
     },
     "execution_count": 125,
     "metadata": {},
     "output_type": "execute_result"
    }
   ],
   "source": [
    "model_target.fit(X_train_sex, y_train)"
   ]
  },
  {
   "cell_type": "code",
   "execution_count": 126,
   "metadata": {},
   "outputs": [
    {
     "name": "stdout",
     "output_type": "stream",
     "text": [
      "Baseline accuracy prediction with tune parameters 0.10945976749487121\n",
      "False/True predictions False    19534\n",
      "True      2401\n",
      "Name: product_id, dtype: int64\n"
     ]
    }
   ],
   "source": [
    "model_target_predictions = model_target.predict(X_test_sex)\n",
    "acc = accuracy_score(model_target_predictions, y_test)\n",
    "\n",
    "pred_matrix=y_test==model_target_predictions\n",
    "print ('Baseline accuracy prediction with tune parameters',acc)\n",
    "print('False/True predictions',pred_matrix.value_counts())"
   ]
  },
  {
   "cell_type": "markdown",
   "metadata": {},
   "source": [
    "# 12.Conclusion"
   ]
  },
  {
   "cell_type": "code",
   "execution_count": null,
   "metadata": {},
   "outputs": [],
   "source": [
    "Thus, by adding column 'Sex' to our dataset we managed to improve accuracy from 10.56% to 10.95% with knn=19.\n",
    "It means that we improved amount of right predictions from 2316 to 2401."
   ]
  },
  {
   "cell_type": "code",
   "execution_count": null,
   "metadata": {},
   "outputs": [],
   "source": []
  }
 ],
 "metadata": {
  "kernelspec": {
   "display_name": "Python 3",
   "language": "python",
   "name": "python3"
  },
  "language_info": {
   "codemirror_mode": {
    "name": "ipython",
    "version": 3
   },
   "file_extension": ".py",
   "mimetype": "text/x-python",
   "name": "python",
   "nbconvert_exporter": "python",
   "pygments_lexer": "ipython3",
   "version": "3.7.3"
  }
 },
 "nbformat": 4,
 "nbformat_minor": 4
}
